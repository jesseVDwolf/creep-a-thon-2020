{
 "cells": [
  {
   "cell_type": "code",
   "execution_count": 1,
   "metadata": {},
   "outputs": [],
   "source": [
    "import json\n",
    "import pandas as pd\n",
    "from pymongo import MongoClient\n",
    "from urllib.parse import quote_plus\n",
    "from pandas.io.json import json_normalize"
   ]
  },
  {
   "cell_type": "code",
   "execution_count": null,
   "metadata": {},
   "outputs": [],
   "source": [
    "\"\"\" Dataset from https://github.com/sa7mon/venmo-data\n",
    "Following facebook graph using facebook-ID: https://stackoverflow.com/questions/11442442/get-user-profile-picture-by-id\n",
    "docker-compose:\n",
    "- https://hub.docker.com/r/metabase/metabase\n",
    "- https://hub.docker.com/_/mongo\n",
    "\"\"\""
   ]
  },
  {
   "cell_type": "code",
   "execution_count": 2,
   "metadata": {},
   "outputs": [],
   "source": [
    "# create a connection with a mongodatabase\n",
    "client1 = MongoClient(host=\"localhost\", port=27017)\n",
    "client2 = MongoClient(\"mongodb://%s:%s@%s:%d\" % (quote_plus(\"admin\"), quote_plus(\"password\"), \"localhost\", 27018))"
   ]
  },
  {
   "cell_type": "code",
   "execution_count": 3,
   "metadata": {},
   "outputs": [],
   "source": [
    "# create a database object using the client object\n",
    "db1 = client1.test\n",
    "db2 = client2.test"
   ]
  },
  {
   "cell_type": "code",
   "execution_count": 6,
   "metadata": {},
   "outputs": [],
   "source": [
    "# get a cursor for the collection\n",
    "transact = db1.venmo.find().limit(3000)"
   ]
  },
  {
   "cell_type": "code",
   "execution_count": null,
   "metadata": {},
   "outputs": [],
   "source": [
    "\"\"\"\n",
    "Might want to do something cleanup here... 7 milion documents....\n",
    "\"\"\""
   ]
  },
  {
   "cell_type": "code",
   "execution_count": 5,
   "metadata": {},
   "outputs": [],
   "source": [
    "for txs in transact:\n",
    "    df = pd.json_normalize(txs)\n",
    "    df.columns = df.columns.str.replace(\".\", \"_\")\n",
    "    d = df.to_dict('records')\n",
    "    db2.venmo_mil.insert_many(d)"
   ]
  },
  {
   "cell_type": "code",
   "execution_count": null,
   "metadata": {},
   "outputs": [],
   "source": []
  }
 ],
 "metadata": {
  "kernelspec": {
   "display_name": "Python 3",
   "language": "python",
   "name": "python3"
  },
  "language_info": {
   "codemirror_mode": {
    "name": "ipython",
    "version": 3
   },
   "file_extension": ".py",
   "mimetype": "text/x-python",
   "name": "python",
   "nbconvert_exporter": "python",
   "pygments_lexer": "ipython3",
   "version": "3.6.9"
  }
 },
 "nbformat": 4,
 "nbformat_minor": 4
}
