{
 "cells": [
  {
   "cell_type": "code",
   "execution_count": 8,
   "metadata": {},
   "outputs": [],
   "source": [
    "import json\n",
    "import pandas as pd\n",
    "from pymongo import MongoClient\n",
    "from urllib.parse import quote_plus\n",
    "from pandas.io.json import json_normalize"
   ]
  },
  {
   "cell_type": "code",
   "execution_count": null,
   "metadata": {},
   "outputs": [],
   "source": [
    "\"\"\" Dataset from https://github.com/sa7mon/venmo-data\n",
    "docker-compose:\n",
    "- https://hub.docker.com/r/metabase/metabase\n",
    "- https://hub.docker.com/_/mongo\n",
    "\"\"\""
   ]
  },
  {
   "cell_type": "code",
   "execution_count": 2,
   "metadata": {},
   "outputs": [],
   "source": [
    "# create a connection with a mongodatabase\n",
    "LIMIT = 1000000\n",
    "client = MongoClient(\"mongodb://%s:%s@%s:%d\" % (quote_plus(\"admin\"), quote_plus(\"password\"), \"localhost\", 27017))"
   ]
  },
  {
   "cell_type": "code",
   "execution_count": 15,
   "metadata": {},
   "outputs": [],
   "source": [
    "# create a database object using the client object\n",
    "db1 = client.test\n",
    "db2 = client.flatten"
   ]
  },
  {
   "cell_type": "code",
   "execution_count": 16,
   "metadata": {},
   "outputs": [],
   "source": [
    "# get a cursor for the collection\n",
    "transact = db1.venmo.find().limit(LIMIT)"
   ]
  },
  {
   "cell_type": "code",
   "execution_count": null,
   "metadata": {},
   "outputs": [],
   "source": [
    "for txs in transact:\n",
    "    \n",
    "    # flatten json structure\n",
    "    df = json_normalize(txs)\n",
    "    df.columns = df.columns.str.replace(\".\", \"_\")\n",
    "    \n",
    "    # convert to insertable records\n",
    "    d = df.to_dict('records')\n",
    "    db2.venmo.insert_many(d)"
   ]
  }
 ],
 "metadata": {
  "kernelspec": {
   "display_name": "Python 3",
   "language": "python",
   "name": "python3"
  },
  "language_info": {
   "codemirror_mode": {
    "name": "ipython",
    "version": 3
   },
   "file_extension": ".py",
   "mimetype": "text/x-python",
   "name": "python",
   "nbconvert_exporter": "python",
   "pygments_lexer": "ipython3",
   "version": "3.6.8rc1"
  }
 },
 "nbformat": 4,
 "nbformat_minor": 4
}
